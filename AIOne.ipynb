{
 "cells": [
  {
   "cell_type": "markdown",
   "metadata": {},
   "source": [
    "## Importing Data"
   ]
  },
  {
   "cell_type": "code",
   "execution_count": 8,
   "metadata": {},
   "outputs": [
    {
     "data": {
      "text/plain": [
       "(1900, 8)"
      ]
     },
     "execution_count": 8,
     "metadata": {},
     "output_type": "execute_result"
    }
   ],
   "source": [
    "import csv\n",
    "import numpy \n",
    "wifis_list = []\n",
    "with open('wifi_train.txt', newline = '') as wifis:                                                                                          \n",
    "    \twifi_reader = csv.reader(wifis, delimiter='\\t')\n",
    "    \tfor wifi in wifi_reader:\n",
    "    \t\t#print(wifi)\n",
    "            wifis_list.append([int(item) for item in wifi])\n",
    "wifis_dt = numpy.array([numpy.array(row) for row in wifis_list])      \n",
    "numpy.shape(wifis_dt)"
   ]
  },
  {
   "cell_type": "markdown",
   "metadata": {},
   "source": [
    "### Split test and train data randomly"
   ]
  },
  {
   "cell_type": "code",
   "execution_count": 18,
   "metadata": {},
   "outputs": [
    {
     "name": "stdout",
     "output_type": "stream",
     "text": [
      "Length of dataset to be trained:  900\n"
     ]
    }
   ],
   "source": [
    "from sklearn.model_selection import train_test_split\n",
    "\n",
    "\n",
    "wifis_dt1 = wifis_dt[numpy.where(wifis_dt[:,7]==1)]\n",
    "wifis_dt3 = wifis_dt[numpy.where(wifis_dt[:,7]==3)]\n",
    "wifis_dt1_3 = numpy.concatenate((wifis_dt1, wifis_dt3))\n",
    "print('Length of dataset to be trained: ', len(wifis_dt1_3))\n",
    "X = wifis_dt1_3[:,0:7]\n",
    "y =  wifis_dt1_3[:,7].ravel()\n",
    "\n",
    "X_train, X_test, y_train, y_test = train_test_split(X, y, test_size=0.15)\n"
   ]
  },
  {
   "cell_type": "markdown",
   "metadata": {},
   "source": [
    "## Supprt Vector Machine Classifier (SVM)"
   ]
  },
  {
   "cell_type": "code",
   "execution_count": 53,
   "metadata": {},
   "outputs": [
    {
     "name": "stdout",
     "output_type": "stream",
     "text": [
      "\n",
      "** SVC Results **\n"
     ]
    },
    {
     "data": {
      "text/plain": [
       "SVC(C=1, kernel='linear')"
      ]
     },
     "execution_count": 53,
     "metadata": {},
     "output_type": "execute_result"
    }
   ],
   "source": [
    "from sklearn.svm import SVC\n",
    "from sklearn.metrics import f1_score\n",
    "from sklearn.metrics import accuracy_score\n",
    "from sklearn.metrics import confusion_matrix\n",
    "from sklearn.model_selection import train_test_split\n",
    "from sklearn.linear_model import LogisticRegression\n",
    "\n",
    "print('\\n** SVC Results **')\n",
    "\n",
    "\n",
    "model_svm = SVC(kernel='linear', C=1)\n",
    "model_svm.fit(X_train, y_train)\n"
   ]
  },
  {
   "cell_type": "markdown",
   "metadata": {},
   "source": [
    "Predicting Trained model on test data"
   ]
  },
  {
   "cell_type": "code",
   "execution_count": 54,
   "metadata": {},
   "outputs": [],
   "source": [
    "y_pred = model_svm.predict(X_test)"
   ]
  },
  {
   "cell_type": "markdown",
   "metadata": {},
   "source": [
    "## Confusion Matrix and Accuracy "
   ]
  },
  {
   "cell_type": "code",
   "execution_count": 55,
   "metadata": {},
   "outputs": [
    {
     "name": "stdout",
     "output_type": "stream",
     "text": [
      "\n",
      "** Decision Tree Results **\n",
      "Train Accuracy: 1.0\n",
      "Test Accuracy: 0.9851851851851852\n",
      "Test fscore: 0.9857142857142858\n"
     ]
    },
    {
     "data": {
      "image/png": "[encoded data removed]",
      "text/plain": [
       "<Figure size 360x288 with 2 Axes>"
      ]
     },
     "metadata": {
      "needs_background": "light"
     },
     "output_type": "display_data"
    },
    {
     "data": {
      "image/png": "[encoded data removed]",
      "text/plain": [
       "<Figure size 360x288 with 2 Axes>"
      ]
     },
     "metadata": {
      "needs_background": "light"
     },
     "output_type": "display_data"
    }
   ],
   "source": [
    "from sklearn.metrics import f1_score\n",
    "from sklearn.metrics import accuracy_score\n",
    "from sklearn.metrics import confusion_matrix\n",
    "import numpy as np\n",
    "import seaborn as sn\n",
    "import matplotlib.pyplot as plt\n",
    "import pandas as pd\n",
    "\n",
    "def plot_conf_mat(y_pred, y_test):\n",
    "    '''\n",
    "    This function take true and predicted labels and plot the confusion matrix. \n",
    "    '''\n",
    "    n = 2\n",
    "    cm = np.zeros((n,n))\n",
    "    for i in range (len(y_pred)):\n",
    "        cm[int((y_test[i]-1)/2),int( (y_pred[i]-1)/2)] += 1  \n",
    "        \n",
    "    fig = plt.figure(figsize=(5, 4))\n",
    "    ax = fig.add_subplot(1, 1, 1, xticks=[], yticks=[])\n",
    "    df_cm = pd.DataFrame(cm).astype(\"float\")\n",
    "    sn.heatmap(df_cm, annot=True, fmt = 'g' )\n",
    "    plt.title('SVM TEST Confusion Matrix')\n",
    "    # todo: Put your code here\n",
    "\n",
    "def plot_conf_mat_train(y_pred, y_test):\n",
    "    '''\n",
    "    This function take true and predicted labels for train set and plot the confusion matrix. \n",
    "    '''\n",
    "    n = 2\n",
    "    cm = np.zeros((n,n))\n",
    "    for i in range (len(y_pred)):\n",
    "        cm[int((y_test[i]-1)/2),int( (y_pred[i]-1)/2)] += 1  \n",
    "        \n",
    "    fig = plt.figure(figsize=(5, 4))\n",
    "    ax = fig.add_subplot(1, 1, 1, xticks=[], yticks=[])\n",
    "    df_cm = pd.DataFrame(cm).astype(\"float\")\n",
    "    sn.heatmap(df_cm, annot=True, fmt = 'g' )\n",
    "    plt.title('SVM TRAIN Confusion Matrix')\n",
    "    # todo: Put your code here\n",
    "\n",
    "plot_conf_mat(y_pred, y_test)\n",
    "\n",
    "y_pred_train = model_svm.predict(X_train)\n",
    "plot_conf_mat_train(y_pred_train, y_train)\n",
    "print('\\n** Decision Tree Results **')\n",
    "\n",
    "\n",
    "print('Train Accuracy: ' + str(accuracy_score(y_train, y_pred_train)) )\n",
    "print('Test Accuracy: ' + str(accuracy_score(y_test, y_pred)) )\n",
    "print('Test fscore: ' + str(f1_score(y_test, y_pred)) )\n",
    "#print('Test confusion: \\n' + str(confusion_matrix(y_test, classifier.predict(X_test))) )"
   ]
  },
  {
   "cell_type": "markdown",
   "metadata": {},
   "source": [
    "# Logistic Regression "
   ]
  },
  {
   "cell_type": "code",
   "execution_count": 69,
   "metadata": {},
   "outputs": [
    {
     "name": "stdout",
     "output_type": "stream",
     "text": [
      "** LogisticRegression Results **\n"
     ]
    },
    {
     "data": {
      "text/plain": [
       "LogisticRegression(max_iter=1000, multi_class='multinomial')"
      ]
     },
     "execution_count": 69,
     "metadata": {},
     "output_type": "execute_result"
    }
   ],
   "source": [
    "from sklearn.linear_model import LogisticRegression\n",
    "print('** LogisticRegression Results **')\n",
    "max_iter = 1000\n",
    "model_lr = LogisticRegression(solver ='lbfgs', multi_class ='multinomial', max_iter = max_iter)\n",
    "model_lr.fit(X_train, y_train)"
   ]
  },
  {
   "cell_type": "code",
   "execution_count": 72,
   "metadata": {},
   "outputs": [
    {
     "name": "stdout",
     "output_type": "stream",
     "text": [
      "\n",
      "** Logisitic Regression Results **\n",
      "Train Accuracy: 0.9973856209150327\n",
      "Test Accuracy: 1.0\n",
      "Test fscore: 1.0\n"
     ]
    },
    {
     "data": {
      "image/png": "[encoded data removed]",
      "text/plain": [
       "<Figure size 360x288 with 2 Axes>"
      ]
     },
     "metadata": {
      "needs_background": "light"
     },
     "output_type": "display_data"
    },
    {
     "data": {
      "image/png": "[encoded data removed]",
      "text/plain": [
       "<Figure size 360x288 with 2 Axes>"
      ]
     },
     "metadata": {
      "needs_background": "light"
     },
     "output_type": "display_data"
    }
   ],
   "source": [
    "from sklearn.metrics import f1_score\n",
    "from sklearn.metrics import accuracy_score\n",
    "from sklearn.metrics import confusion_matrix\n",
    "import numpy as np\n",
    "import seaborn as sn\n",
    "import matplotlib.pyplot as plt\n",
    "import pandas as pd\n",
    "def plot_conf_mat(y_pred, y_test):\n",
    "    '''\n",
    "    This function take true and predicted labels and plot the confusion matrix. \n",
    "    '''\n",
    "    n = 2\n",
    "    cm = np.zeros((n,n))\n",
    "    for i in range (len(y_pred)):\n",
    "        cm[int((y_test[i]-1)/2),int( (y_pred[i]-1)/2)] += 1  \n",
    "        \n",
    "    fig = plt.figure(figsize=(5, 4))\n",
    "    ax = fig.add_subplot(1, 1, 1, xticks=[], yticks=[])\n",
    "    df_cm = pd.DataFrame(cm).astype(\"float\")\n",
    "    sn.heatmap(df_cm, annot=True, fmt = 'g' )\n",
    "    plt.title('Logistic Regression TEST Confusion Matrix')\n",
    "    # todo: Put your code here\n",
    "\n",
    "def plot_conf_mat_train(y_pred, y_test):\n",
    "    '''\n",
    "    This function take true and predicted labels for train set and plot the confusion matrix. \n",
    "    '''\n",
    "    n = 2\n",
    "    cm = np.zeros((n,n))\n",
    "    for i in range (len(y_pred)):\n",
    "        cm[int((y_test[i]-1)/2),int( (y_pred[i]-1)/2)] += 1  \n",
    "        \n",
    "    fig = plt.figure(figsize=(5, 4))\n",
    "    ax = fig.add_subplot(1, 1, 1, xticks=[], yticks=[])\n",
    "    df_cm = pd.DataFrame(cm).astype(\"float\")\n",
    "    sn.heatmap(df_cm, annot=True, fmt = 'g' )\n",
    "    plt.title('Logistic Regression TRAIN Confusion Matrix')\n",
    "    # todo: Put your code here\n",
    "\n",
    "y_pred = model_lr.predict(X_test)\n",
    "plot_conf_mat(y_pred, y_test)\n",
    "\n",
    "y_pred_train = model_svm.predict(X_train)\n",
    "plot_conf_mat_train(y_pred_train, y_train)\n",
    "print('\\n** Logisitic Regression Results **')\n",
    "\n",
    "\n",
    "print('Train Accuracy: ' + str(accuracy_score(y_train, y_pred_train)) )\n",
    "print('Test Accuracy: ' + str(accuracy_score(y_test, y_pred)) )\n",
    "print('Test fscore: ' + str(f1_score(y_test, y_pred)) )\n",
    "#print('Test confusion: \\n' + str(confusion_matrix(y_test, classifier.predict(X_test))) )"
   ]
  },
  {
   "cell_type": "code",
   "execution_count": null,
   "metadata": {},
   "outputs": [],
   "source": []
  },
  {
   "cell_type": "code",
   "execution_count": null,
   "metadata": {},
   "outputs": [],
   "source": []
  }
 ],
 "metadata": {
  "kernelspec": {
   "display_name": "Python 3",
   "language": "python",
   "name": "python3"
  },
  "language_info": {
   "codemirror_mode": {
    "name": "ipython",
    "version": 3
   },
   "file_extension": ".py",
   "mimetype": "text/x-python",
   "name": "python",
   "nbconvert_exporter": "python",
   "pygments_lexer": "ipython3",
   "version": "3.8.3"
  }
 },
 "nbformat": 4,
 "nbformat_minor": 4
}
