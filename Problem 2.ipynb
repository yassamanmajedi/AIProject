{
 "cells": [
  {
   "cell_type": "markdown",
   "metadata": {},
   "source": [
    "## Importing Data"
   ]
  },
  {
   "cell_type": "code",
   "execution_count": 17,
   "metadata": {},
   "outputs": [
    {
     "data": {
      "text/html": [
       "<div>\n",
       "<style scoped>\n",
       "    .dataframe tbody tr th:only-of-type {\n",
       "        vertical-align: middle;\n",
       "    }\n",
       "\n",
       "    .dataframe tbody tr th {\n",
       "        vertical-align: top;\n",
       "    }\n",
       "\n",
       "    .dataframe thead th {\n",
       "        text-align: right;\n",
       "    }\n",
       "</style>\n",
       "<table border=\"1\" class=\"dataframe\">\n",
       "  <thead>\n",
       "    <tr style=\"text-align: right;\">\n",
       "      <th></th>\n",
       "      <th>Pregnancies</th>\n",
       "      <th>Glucose</th>\n",
       "      <th>BloodPressure</th>\n",
       "      <th>SkinThickness</th>\n",
       "      <th>Insulin</th>\n",
       "      <th>BMI</th>\n",
       "      <th>DiabetesPedigreeFunction</th>\n",
       "      <th>Age</th>\n",
       "      <th>Outcome</th>\n",
       "    </tr>\n",
       "  </thead>\n",
       "  <tbody>\n",
       "    <tr>\n",
       "      <th>0</th>\n",
       "      <td>0</td>\n",
       "      <td>113</td>\n",
       "      <td>80</td>\n",
       "      <td>16</td>\n",
       "      <td>0</td>\n",
       "      <td>31.0</td>\n",
       "      <td>0.874</td>\n",
       "      <td>21</td>\n",
       "      <td>0</td>\n",
       "    </tr>\n",
       "    <tr>\n",
       "      <th>1</th>\n",
       "      <td>0</td>\n",
       "      <td>152</td>\n",
       "      <td>82</td>\n",
       "      <td>39</td>\n",
       "      <td>272</td>\n",
       "      <td>41.5</td>\n",
       "      <td>0.270</td>\n",
       "      <td>27</td>\n",
       "      <td>0</td>\n",
       "    </tr>\n",
       "    <tr>\n",
       "      <th>2</th>\n",
       "      <td>2</td>\n",
       "      <td>101</td>\n",
       "      <td>58</td>\n",
       "      <td>35</td>\n",
       "      <td>90</td>\n",
       "      <td>21.8</td>\n",
       "      <td>0.155</td>\n",
       "      <td>22</td>\n",
       "      <td>0</td>\n",
       "    </tr>\n",
       "    <tr>\n",
       "      <th>3</th>\n",
       "      <td>1</td>\n",
       "      <td>97</td>\n",
       "      <td>70</td>\n",
       "      <td>15</td>\n",
       "      <td>0</td>\n",
       "      <td>18.2</td>\n",
       "      <td>0.147</td>\n",
       "      <td>21</td>\n",
       "      <td>0</td>\n",
       "    </tr>\n",
       "    <tr>\n",
       "      <th>4</th>\n",
       "      <td>1</td>\n",
       "      <td>97</td>\n",
       "      <td>64</td>\n",
       "      <td>19</td>\n",
       "      <td>82</td>\n",
       "      <td>18.2</td>\n",
       "      <td>0.299</td>\n",
       "      <td>21</td>\n",
       "      <td>0</td>\n",
       "    </tr>\n",
       "  </tbody>\n",
       "</table>\n",
       "</div>"
      ],
      "text/plain": [
       "   Pregnancies  Glucose  BloodPressure  SkinThickness  Insulin   BMI  \\\n",
       "0            0      113             80             16        0  31.0   \n",
       "1            0      152             82             39      272  41.5   \n",
       "2            2      101             58             35       90  21.8   \n",
       "3            1       97             70             15        0  18.2   \n",
       "4            1       97             64             19       82  18.2   \n",
       "\n",
       "   DiabetesPedigreeFunction  Age  Outcome  \n",
       "0                     0.874   21        0  \n",
       "1                     0.270   27        0  \n",
       "2                     0.155   22        0  \n",
       "3                     0.147   21        0  \n",
       "4                     0.299   21        0  "
      ]
     },
     "execution_count": 17,
     "metadata": {},
     "output_type": "execute_result"
    }
   ],
   "source": [
    "# Use mean of the features\n",
    "import pandas as pd\n",
    "DATASET = pd.read_csv('diabetes_train.csv')\n",
    "pd.DataFrame.head(DATASET,5)\n"
   ]
  },
  {
   "cell_type": "markdown",
   "metadata": {},
   "source": [
    "### Split test and train data randomly"
   ]
  },
  {
   "cell_type": "code",
   "execution_count": 18,
   "metadata": {},
   "outputs": [],
   "source": [
    "from sklearn.model_selection import train_test_split\n",
    "\n",
    "X_df =  DATASET.iloc[:, 0:8]\n",
    "y = pd.DataFrame(data = DATASET.iloc[:, 8], columns = ['Outcome'])\n",
    "y = y.to_numpy().ravel()\n",
    "X = X_df.to_numpy()\n",
    "\n",
    "X_train, X_test, y_train, y_test = train_test_split(X, y, test_size=0.15)\n"
   ]
  },
  {
   "cell_type": "markdown",
   "metadata": {},
   "source": [
    "## Decision Tree Classifier and Specification Max Depth = 2 (underfit)"
   ]
  },
  {
   "cell_type": "code",
   "execution_count": 19,
   "metadata": {},
   "outputs": [
    {
     "data": {
      "text/plain": [
       "DecisionTreeClassifier(max_depth=2)"
      ]
     },
     "execution_count": 19,
     "metadata": {},
     "output_type": "execute_result"
    }
   ],
   "source": [
    "from sklearn.tree import DecisionTreeClassifier\n",
    "max_depth = 2\n",
    "#n_tree = 10\n",
    "classifier = DecisionTreeClassifier(max_depth = max_depth)\n",
    "classifier.fit(X_train, y_train)"
   ]
  },
  {
   "cell_type": "markdown",
   "metadata": {},
   "source": [
    "Predicting Trained model on test data"
   ]
  },
  {
   "cell_type": "code",
   "execution_count": 20,
   "metadata": {},
   "outputs": [],
   "source": [
    "y_pred = classifier.predict(X_test)"
   ]
  },
  {
   "cell_type": "markdown",
   "metadata": {},
   "source": [
    "## Confusion Matrix and Accuracy "
   ]
  },
  {
   "cell_type": "code",
   "execution_count": 21,
   "metadata": {},
   "outputs": [
    {
     "name": "stdout",
     "output_type": "stream",
     "text": [
      "\n",
      "** Decision Tree Results **\n",
      "Train Accuracy: 0.7644991212653779\n",
      "Test Accuracy: 0.7920792079207921\n",
      "Test fscore: 0.5333333333333333\n"
     ]
    },
    {
     "data": {
      "image/png": "[encoded data removed]",
      "text/plain": [
       "<Figure size 360x288 with 2 Axes>"
      ]
     },
     "metadata": {
      "needs_background": "light"
     },
     "output_type": "display_data"
    },
    {
     "data": {
      "image/png": "[encoded data removed]",
      "text/plain": [
       "<Figure size 360x288 with 2 Axes>"
      ]
     },
     "metadata": {
      "needs_background": "light"
     },
     "output_type": "display_data"
    }
   ],
   "source": [
    "from sklearn.metrics import f1_score\n",
    "from sklearn.metrics import accuracy_score\n",
    "from sklearn.metrics import confusion_matrix\n",
    "import numpy as np\n",
    "import seaborn as sn\n",
    "import matplotlib.pyplot as plt\n",
    "\n",
    "def plot_conf_mat(y_pred, y_test):\n",
    "    '''\n",
    "    This function take true and predicted labels and plot the confusion matrix. \n",
    "    '''\n",
    "    n = 2\n",
    "    cm = np.zeros((n,n))\n",
    "    for i in range (len(y_pred)):\n",
    "        cm[y_test[i], y_pred[i]] += 1  \n",
    "        \n",
    "    fig = plt.figure(figsize=(5, 4))\n",
    "    ax = fig.add_subplot(1, 1, 1, xticks=[], yticks=[])\n",
    "    df_cm = pd.DataFrame(cm).astype(\"float\")\n",
    "    sn.heatmap(df_cm, annot=True, fmt = 'g' )\n",
    "    plt.title('Decision Tree TEST Confusion Matrix')\n",
    "    # todo: Put your code here\n",
    "\n",
    "def plot_conf_mat_train(y_pred, y_test):\n",
    "    '''\n",
    "    This function take true and predicted labels for train set and plot the confusion matrix. \n",
    "    '''\n",
    "    n = 2\n",
    "    cm = np.zeros((n,n))\n",
    "    for i in range (len(y_pred)):\n",
    "        cm[y_test[i], y_pred[i]] += 1  \n",
    "    \n",
    "    fig = plt.figure(figsize=(5, 4))\n",
    "    ax = fig.add_subplot(1, 1, 1, xticks=[], yticks=[])\n",
    "    df_cm = pd.DataFrame(cm).astype(\"float\")\n",
    "    sn.heatmap(df_cm, annot=True, fmt = 'g' )\n",
    "    plt.title('Decision Tree TRAIN Confusion Matrix')\n",
    "    # todo: Put your code here\n",
    "\n",
    "plot_conf_mat(y_pred, y_test)\n",
    "\n",
    "y_pred_train = classifier.predict(X_train)\n",
    "plot_conf_mat_train(y_pred_train, y_train)\n",
    "print('\\n** Decision Tree Results **')\n",
    "\n",
    "\n",
    "print('Train Accuracy: ' + str(accuracy_score(y_train, y_pred_train)) )\n",
    "print('Test Accuracy: ' + str(accuracy_score(y_test, y_pred)) )\n",
    "print('Test fscore: ' + str(f1_score(y_test, y_pred)) )\n",
    "#print('Test confusion: \\n' + str(confusion_matrix(y_test, classifier.predict(X_test))) )"
   ]
  },
  {
   "cell_type": "markdown",
   "metadata": {},
   "source": [
    "## Decision Tree Classifier and Specification Max Depth = 5  (Best Option)"
   ]
  },
  {
   "cell_type": "code",
   "execution_count": 22,
   "metadata": {},
   "outputs": [
    {
     "name": "stdout",
     "output_type": "stream",
     "text": [
      "\n",
      "** Decision Tree Results **\n",
      "Train Accuracy: 0.8506151142355008\n",
      "Test Accuracy: 0.8316831683168316\n",
      "Test fscore: 0.6909090909090909\n"
     ]
    },
    {
     "data": {
      "image/png": "[encoded data removed]",
      "text/plain": [
       "<Figure size 360x288 with 2 Axes>"
      ]
     },
     "metadata": {
      "needs_background": "light"
     },
     "output_type": "display_data"
    },
    {
     "data": {
      "image/png": "[encoded data removed]",
      "text/plain": [
       "<Figure size 360x288 with 2 Axes>"
      ]
     },
     "metadata": {
      "needs_background": "light"
     },
     "output_type": "display_data"
    }
   ],
   "source": [
    "from sklearn.tree import DecisionTreeClassifier\n",
    "max_depth = 5\n",
    "#n_tree = 10\n",
    "classifier = DecisionTreeClassifier(max_depth = max_depth)\n",
    "classifier.fit(X_train, y_train)\n",
    "y_pred = classifier.predict(X_test)\n",
    "from sklearn.metrics import f1_score\n",
    "from sklearn.metrics import accuracy_score\n",
    "from sklearn.metrics import confusion_matrix\n",
    "import numpy as np\n",
    "import seaborn as sn\n",
    "import matplotlib.pyplot as plt\n",
    "\n",
    "\n",
    "plot_conf_mat(y_pred, y_test)\n",
    "\n",
    "y_pred_train = classifier.predict(X_train)\n",
    "plot_conf_mat_train(y_pred_train, y_train)\n",
    "print('\\n** Decision Tree Results **')\n",
    "\n",
    "\n",
    "print('Train Accuracy: ' + str(accuracy_score(y_train, y_pred_train)) )\n",
    "print('Test Accuracy: ' + str(accuracy_score(y_test, y_pred)) )\n",
    "print('Test fscore: ' + str(f1_score(y_test, y_pred)) )\n",
    "#print('Test confusion: \\n' + str(confusion_matrix(y_test, classifier.predict(X_test))) )"
   ]
  },
  {
   "cell_type": "markdown",
   "metadata": {},
   "source": [
    "## Decision Tree Classifier and Specification Max Depth = 10  : : : OVERFITTING"
   ]
  },
  {
   "cell_type": "code",
   "execution_count": 23,
   "metadata": {},
   "outputs": [
    {
     "name": "stdout",
     "output_type": "stream",
     "text": [
      "\n",
      "** Decision Tree Results **\n",
      "Train Accuracy: 0.968365553602812\n",
      "Test Accuracy: 0.7227722772277227\n",
      "Test fscore: 0.5483870967741935\n"
     ]
    },
    {
     "data": {
      "image/png": "[encoded data removed]",
      "text/plain": [
       "<Figure size 360x288 with 2 Axes>"
      ]
     },
     "metadata": {
      "needs_background": "light"
     },
     "output_type": "display_data"
    },
    {
     "data": {
      "image/png": "[encoded data removed]",
      "text/plain": [
       "<Figure size 360x288 with 2 Axes>"
      ]
     },
     "metadata": {
      "needs_background": "light"
     },
     "output_type": "display_data"
    }
   ],
   "source": [
    "from sklearn.tree import DecisionTreeClassifier\n",
    "max_depth = 10\n",
    "#n_tree = 10\n",
    "classifier = DecisionTreeClassifier(max_depth = max_depth)\n",
    "classifier.fit(X_train, y_train)\n",
    "y_pred = classifier.predict(X_test)\n",
    "from sklearn.metrics import f1_score\n",
    "from sklearn.metrics import accuracy_score\n",
    "from sklearn.metrics import confusion_matrix\n",
    "import numpy as np\n",
    "import seaborn as sn\n",
    "import matplotlib.pyplot as plt\n",
    "\n",
    "\n",
    "plot_conf_mat(y_pred, y_test)\n",
    "\n",
    "y_pred_train = classifier.predict(X_train)\n",
    "plot_conf_mat_train(y_pred_train, y_train)\n",
    "print('\\n** Decision Tree Results **')\n",
    "\n",
    "\n",
    "print('Train Accuracy: ' + str(accuracy_score(y_train, y_pred_train)) )\n",
    "print('Test Accuracy: ' + str(accuracy_score(y_test, y_pred)) )\n",
    "print('Test fscore: ' + str(f1_score(y_test, y_pred)) )\n",
    "#print('Test confusion: \\n' + str(confusion_matrix(y_test, classifier.predict(X_test))) )"
   ]
  },
  {
   "cell_type": "code",
   "execution_count": null,
   "metadata": {},
   "outputs": [],
   "source": []
  }
 ],
 "metadata": {
  "kernelspec": {
   "display_name": "Python 3",
   "language": "python",
   "name": "python3"
  },
  "language_info": {
   "codemirror_mode": {
    "name": "ipython",
    "version": 3
   },
   "file_extension": ".py",
   "mimetype": "text/x-python",
   "name": "python",
   "nbconvert_exporter": "python",
   "pygments_lexer": "ipython3",
   "version": "3.8.3"
  }
 },
 "nbformat": 4,
 "nbformat_minor": 4
}
