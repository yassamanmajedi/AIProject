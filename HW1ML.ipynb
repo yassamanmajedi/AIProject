{
  "cells": [
    {
      "cell_type": "code",
      "execution_count": null,
      "metadata": {
        "colab": {
          "base_uri": "https://localhost:8080/"
        },
        "id": "01q-sVVWqjzB",
        "outputId": "b7a97656-fb53-4a56-ac95-db503939d2f1"
      },
      "outputs": [],
      "source": [
        "!gdown --id 1R2QU_6rB_AYqZKt_0EDhtDuyrEdI_SAK"
      ]
    },
    {
      "cell_type": "markdown",
      "metadata": {
        "id": "ZoZh84P96z8a"
      },
      "source": [
        "The first step is to download the dataset from google drive. "
      ]
    },
    {
      "cell_type": "code",
      "execution_count": null,
      "metadata": {
        "id": "QA_wY9BFqoBV"
      },
      "outputs": [],
      "source": [
        "import pandas as pd\n",
        "import numpy as np\n",
        "import matplotlib.pyplot as plt\n",
        "import seaborn as sns"
      ]
    },
    {
      "cell_type": "markdown",
      "metadata": {
        "id": "ye6KInI_7Evd"
      },
      "source": [
        "Importing required libraries. "
      ]
    },
    {
      "cell_type": "code",
      "execution_count": null,
      "metadata": {
        "id": "K5pZsWeQqq1X"
      },
      "outputs": [],
      "source": [
        "#Read File\n",
        "dataSet = pd.read_csv(\"SalaryDataSet.csv\")"
      ]
    },
    {
      "cell_type": "markdown",
      "metadata": {
        "id": "L0iN8YDy7NM7"
      },
      "source": [
        "By using pandas, we load and read the dataset "
      ]
    },
    {
      "cell_type": "code",
      "execution_count": null,
      "metadata": {
        "colab": {
          "base_uri": "https://localhost:8080/",
          "height": 419
        },
        "id": "ihkvG5-Mqs2l",
        "outputId": "50dda044-8839-436a-d62e-5682e4f06cb8"
      },
      "outputs": [],
      "source": [
        "#Showing DataSet \n",
        "dataSet"
      ]
    },
    {
      "cell_type": "markdown",
      "metadata": {
        "id": "bcKlQkvw7L8-"
      },
      "source": [
        "Showing dataset and reviewing the datas. "
      ]
    },
    {
      "cell_type": "markdown",
      "metadata": {
        "id": "1Qw3uFzz7dKD"
      },
      "source": [
        "We were asked to add two columns of our choice. I added one column for the co untry and one column for marital status. For adding columns we have several ways, which I chose insert and assign. "
      ]
    },
    {
      "cell_type": "code",
      "execution_count": null,
      "metadata": {
        "id": "o4DlRkC-quXq"
      },
      "outputs": [],
      "source": [
        "#Adding Columns \n",
        "#country_list = [\"Iran\", \"US\", \"UK\", \"Germany\", \"Belguim\", \"Austria\", \"France\", \"Italy\", \"Spain\", \"Finland\", \"Denmark\", \"Sweden\", \"Norway\"]\n",
        "dataSet.insert(6, \"Country\", np.nan , True)\n",
        "dataSet.iloc[0:10, -1]  = \"Iran\"\n",
        "dataSet.iloc[10:20, -1] = \"US\"\n",
        "dataSet.iloc[20:30, -1] = \"UK\"\n",
        "dataSet.iloc[30:40, -1] = \"Germany\"\n",
        "dataSet.iloc[40:50, -1] = \"Belguim\"\n",
        "dataSet.iloc[50:60, -1] = \"Austria\"\n",
        "dataSet.iloc[60:70, -1] = \"France\"\n",
        "dataSet.iloc[70:80, -1] = \"Italy\"\n",
        "dataSet.iloc[80:90, -1] = \"Spain\"\n",
        "dataSet.iloc[90:100, -1] = \"Finland\"\n",
        "dataSet.iloc[100:110, -1] = \"Denmark\"\n",
        "dataSet.iloc[110:120, -1] = \"Sweden\"\n",
        "dataSet.iloc[120:130, -1] = \"Norway\"\n",
        "\n"
      ]
    },
    {
      "cell_type": "markdown",
      "metadata": {
        "id": "N4XlbW707_ae"
      },
      "source": [
        "Now, By using iloc, I gave the values for each person in the dataset. "
      ]
    },
    {
      "cell_type": "code",
      "execution_count": null,
      "metadata": {
        "colab": {
          "base_uri": "https://localhost:8080/",
          "height": 419
        },
        "id": "JFbi_0y2zMUw",
        "outputId": "34176e93-041a-4d25-a937-b6c64ceb42d6"
      },
      "outputs": [],
      "source": [
        "dataSet"
      ]
    },
    {
      "cell_type": "code",
      "execution_count": null,
      "metadata": {
        "id": "aYcO-Bo_zxPX"
      },
      "outputs": [],
      "source": [
        "dataSet = dataSet.assign(Married = np.nan)\n",
        "dataSet.iloc[0:75,-1] = \"YES\"\n",
        "dataSet.iloc[75:130,-1] = \"No\""
      ]
    },
    {
      "cell_type": "code",
      "execution_count": null,
      "metadata": {
        "colab": {
          "base_uri": "https://localhost:8080/",
          "height": 419
        },
        "id": "reKjG4JX0MFE",
        "outputId": "559db92a-7466-4dba-b93f-cce3e1b36a86"
      },
      "outputs": [],
      "source": [
        "dataSet"
      ]
    },
    {
      "cell_type": "code",
      "execution_count": null,
      "metadata": {
        "id": "UvS0Pxjx0O8n"
      },
      "outputs": [],
      "source": [
        "#40 percent null for Country\n",
        "dataSet.iloc[20:73, -2] = np.nan\n"
      ]
    },
    {
      "cell_type": "markdown",
      "metadata": {
        "id": "axLLoZFV8UEA"
      },
      "source": [
        "For the first column, 40 percent of the entries must be null (0.4 * 130 = 52). I chose random indexes (20 to 72) to be null."
      ]
    },
    {
      "cell_type": "code",
      "execution_count": null,
      "metadata": {
        "colab": {
          "base_uri": "https://localhost:8080/",
          "height": 419
        },
        "id": "5gjLkYPs1bRU",
        "outputId": "d3ab3b60-525c-4b67-b169-770131bc7e4b"
      },
      "outputs": [],
      "source": [
        "dataSet"
      ]
    },
    {
      "cell_type": "code",
      "execution_count": null,
      "metadata": {
        "id": "OOFUJ2vk1tGR"
      },
      "outputs": [],
      "source": [
        "#60 percent null for Married\n",
        "dataSet.iloc[30:109, -1] = np.nan"
      ]
    },
    {
      "cell_type": "markdown",
      "metadata": {
        "id": "6ePJlDpu8nZc"
      },
      "source": [
        "For the second column, 60 percent of entries (0.6 * 130 = 78) must be null. I chose indexes from 30 to 108 to be null. "
      ]
    },
    {
      "cell_type": "code",
      "execution_count": null,
      "metadata": {
        "colab": {
          "base_uri": "https://localhost:8080/",
          "height": 419
        },
        "id": "LXlZM0O312fB",
        "outputId": "07584abe-bcd9-4184-b679-b111dd950c98"
      },
      "outputs": [],
      "source": [
        "dataSet"
      ]
    },
    {
      "cell_type": "code",
      "execution_count": null,
      "metadata": {
        "id": "VcKNhnPe18mr"
      },
      "outputs": [],
      "source": [
        "#removing more than 50 percent null \n",
        "threshold = 0.5\n",
        "dataSet = dataSet[dataSet.columns[dataSet.isnull().mean() < threshold]]\n"
      ]
    },
    {
      "cell_type": "markdown",
      "metadata": {
        "id": "ogg_ayze9APN"
      },
      "source": [
        "Now, we need to remove the columns which have more 50 percent null. In our case just the last column (Marital Status- Marriage) is dropped because 60 percent of its values are null. "
      ]
    },
    {
      "cell_type": "code",
      "execution_count": null,
      "metadata": {
        "colab": {
          "base_uri": "https://localhost:8080/",
          "height": 419
        },
        "id": "kJG6Lqrc2gp4",
        "outputId": "6c08f641-3a0a-4dea-a1f2-88a8215fc995"
      },
      "outputs": [],
      "source": [
        "dataSet"
      ]
    },
    {
      "cell_type": "code",
      "execution_count": null,
      "metadata": {
        "id": "Nzcqaqmk2nif"
      },
      "outputs": [],
      "source": [
        "#removing more than 80 percent null \n",
        "threshold = 0.8\n",
        "dataSet = dataSet[dataSet.columns[dataSet.isnull().mean() < threshold]]"
      ]
    },
    {
      "cell_type": "markdown",
      "metadata": {
        "id": "fS4J59HC9WzT"
      },
      "source": [
        "Now we should remove columns which its null values are more than 80 percent. In this case, none of the columns are dropped. "
      ]
    },
    {
      "cell_type": "code",
      "execution_count": null,
      "metadata": {
        "colab": {
          "base_uri": "https://localhost:8080/",
          "height": 419
        },
        "id": "AHjQ3j3_2tm1",
        "outputId": "71b3f665-750b-4c9d-e4e8-50b5bc7a3fa5"
      },
      "outputs": [],
      "source": [
        "dataSet"
      ]
    },
    {
      "cell_type": "markdown",
      "metadata": {
        "id": "RHxVPl1U9Vdc"
      },
      "source": [
        "Now, we should drop the rows with null values more than 30 percent. Here 44 rows are dropped. "
      ]
    },
    {
      "cell_type": "code",
      "execution_count": null,
      "metadata": {
        "id": "txpV1X-03cgf"
      },
      "outputs": [],
      "source": [
        "threshold = 0.3 \n",
        "dataSet = dataSet.loc[dataSet.isnull().mean(axis=1) < threshold]"
      ]
    },
    {
      "cell_type": "code",
      "execution_count": null,
      "metadata": {
        "colab": {
          "base_uri": "https://localhost:8080/",
          "height": 419
        },
        "id": "GjiDOiAT33id",
        "outputId": "db3377b4-5ec4-406b-d206-7b0036cc512d"
      },
      "outputs": [],
      "source": [
        "dataSet"
      ]
    },
    {
      "cell_type": "code",
      "execution_count": null,
      "metadata": {
        "colab": {
          "base_uri": "https://localhost:8080/"
        },
        "id": "KbE9IHvC43-t",
        "outputId": "ad53a6b1-e5dc-4129-8dd0-6c0f8272aaf3"
      },
      "outputs": [],
      "source": [
        "dataSet = dataSet.fillna(dataSet.median())"
      ]
    },
    {
      "cell_type": "markdown",
      "metadata": {
        "id": "rx9q7M7g92Je"
      },
      "source": [
        "We fill the remaining null values (numerical columns) in the dataset by using fillna. For filling it, median of items are considered. "
      ]
    },
    {
      "cell_type": "code",
      "execution_count": null,
      "metadata": {
        "colab": {
          "base_uri": "https://localhost:8080/",
          "height": 419
        },
        "id": "n6ZzjjNxxSCL",
        "outputId": "0e234d14-10b4-44ee-fc74-679594d78992"
      },
      "outputs": [],
      "source": [
        "dataSet"
      ]
    },
    {
      "cell_type": "code",
      "execution_count": null,
      "metadata": {
        "id": "CTrrM748xVo_"
      },
      "outputs": [],
      "source": [
        "dataSet['Gender'].fillna(dataSet['Gender'].value_counts().idxmax(), inplace=True)"
      ]
    },
    {
      "cell_type": "markdown",
      "metadata": {
        "id": "Ot_ifaeA-Mm8"
      },
      "source": [
        "For filling non-numerical columns, by using the maximum value, we replaced the null values. "
      ]
    },
    {
      "cell_type": "code",
      "execution_count": null,
      "metadata": {
        "colab": {
          "base_uri": "https://localhost:8080/"
        },
        "id": "R0d40D0Pyow5",
        "outputId": "ea496e89-6df0-4b3f-df92-811bc797c011"
      },
      "outputs": [],
      "source": [
        "dataSet.info()"
      ]
    },
    {
      "cell_type": "code",
      "execution_count": null,
      "metadata": {
        "id": "mNwSgyz2yyy1"
      },
      "outputs": [],
      "source": [
        "dataSet['Education'].fillna(dataSet['Education'].value_counts().idxmax(), inplace=True)"
      ]
    },
    {
      "cell_type": "code",
      "execution_count": null,
      "metadata": {
        "id": "bdkgwbj_y3HX"
      },
      "outputs": [],
      "source": [
        "dataSet['Country'].fillna(dataSet['Country'].value_counts().idxmax(), inplace=True)"
      ]
    },
    {
      "cell_type": "code",
      "execution_count": null,
      "metadata": {
        "colab": {
          "base_uri": "https://localhost:8080/"
        },
        "id": "AuuPrgxey_W4",
        "outputId": "fd5596cc-d26f-40ec-dc23-24e4e6171f00"
      },
      "outputs": [],
      "source": [
        "dataSet.info()"
      ]
    },
    {
      "cell_type": "code",
      "execution_count": null,
      "metadata": {
        "colab": {
          "base_uri": "https://localhost:8080/"
        },
        "id": "WjdDTdMflvZ5",
        "outputId": "9f4d5ea9-a46c-423b-83a3-ba990484ded8"
      },
      "outputs": [],
      "source": [
        "dataSet['Gender'] = dataSet['Gender'].replace('F ', 'F')\n",
        "dataSet['Gender'].unique()\n",
        "dataSet['Education'].unique()\n",
        "dataSet['Field'].unique()\n",
        "dataSet['Country'].unique()\n"
      ]
    },
    {
      "cell_type": "code",
      "execution_count": null,
      "metadata": {
        "id": "at8przWmmGcv"
      },
      "outputs": [],
      "source": [
        "#removing wrong inputs --> outliers \n",
        "factor = 2 \n",
        "upper_limit = dataSet['Age'].mean() + dataSet['Age'].std() * factor\n",
        "lower_limit = dataSet['Age'].mean() - dataSet['Age'].std() * factor\n",
        "dataSet = dataSet[(dataSet['Age'] < upper_limit) & (dataSet['Age'] > lower_limit)]\n",
        "\n",
        "upper_limit = dataSet['Work Experience'].mean() + dataSet['Work Experience'].std() * factor\n",
        "lower_limit = dataSet['Work Experience'].mean() - dataSet['Work Experience'].std() * factor\n",
        "dataSet = dataSet[(dataSet['Work Experience'] < upper_limit) & (dataSet['Work Experience'] > lower_limit)]\n",
        "\n",
        "upper_limit = dataSet['Salary'].mean() + dataSet['Salary'].std() * factor\n",
        "lower_limit = dataSet['Salary'].mean() - dataSet['Salary'].std() * factor\n",
        "dataSet = dataSet[(dataSet['Salary'] < upper_limit) & (dataSet['Salary'] > lower_limit)]"
      ]
    },
    {
      "cell_type": "markdown",
      "metadata": {
        "id": "c0VgV8RV1-no"
      },
      "source": [
        "We classify each feature into groups. "
      ]
    },
    {
      "cell_type": "code",
      "execution_count": null,
      "metadata": {
        "id": "ZYj0iK08m0kI"
      },
      "outputs": [],
      "source": [
        "ageList = []\n",
        "for i in dataSet['Age']:\n",
        "  if i < 30:\n",
        "        ageList.append('26-30')\n",
        "  elif i < 40:\n",
        "        ageList.append('30-40')\n",
        "  elif i < 50:\n",
        "        ageList.append('40-50')\n",
        "  elif i < 60:\n",
        "        ageList.append('50-60')\n",
        "  else:\n",
        "        ageList.append('60-70')\n",
        "dataSet['Age'] = ageList"
      ]
    },
    {
      "cell_type": "code",
      "execution_count": null,
      "metadata": {
        "id": "ZrEaF_HJn-5Q"
      },
      "outputs": [],
      "source": [
        "salaryList = []\n",
        "for i in dataSet['Salary']:\n",
        "  if i < 50:\n",
        "    salaryList.append('10-50')\n",
        "  elif i < 100:\n",
        "    salaryList.append('50-100')\n",
        "  elif i < 150:\n",
        "    salaryList.append('100-150')\n",
        "  elif i < 200:\n",
        "    salaryList.append('150-200')\n",
        "  elif i < 250:\n",
        "    salaryList.append('200-250')\n",
        "  elif i < 300:\n",
        "    salaryList.append('250-300')\n",
        "  else:\n",
        "    salaryList.append('300-400')\n",
        "dataSet['Salary'] = salaryList"
      ]
    },
    {
      "cell_type": "code",
      "execution_count": null,
      "metadata": {
        "id": "orfTFeS5pUBw"
      },
      "outputs": [],
      "source": [
        "workEList= []\n",
        "for i in dataSet['Work Experience']:\n",
        "    if i < 5:\n",
        "        workEList.append('1-5')\n",
        "    elif i < 10:\n",
        "        workEList.append('5-10')\n",
        "    elif i < 15:\n",
        "        workEList.append('10-15')\n",
        "    elif i < 20:\n",
        "        workEList.append('15-20')\n",
        "    elif i < 25:\n",
        "        workEList.append('20-25')\n",
        "    elif i < 30:\n",
        "        workEList.append('25-30')\n",
        "    else:\n",
        "        workEList.append('30-40')\n",
        "dataSet['Work Experience'] = workEList"
      ]
    },
    {
      "cell_type": "code",
      "execution_count": null,
      "metadata": {
        "colab": {
          "base_uri": "https://localhost:8080/"
        },
        "id": "S0OZgdVZ95HT",
        "outputId": "143d6e2c-d464-49db-d84c-80f8ef8819ac"
      },
      "outputs": [],
      "source": [
        "from sklearn.model_selection import train_test_split\n",
        "features = ['Education', 'Age', 'Work Experience', 'Field']\n",
        "target = ['Salary']\n",
        "X = dataSet[features]\n",
        "Y = dataSet[target]\n",
        "print(X)\n",
        "print(Y)"
      ]
    },
    {
      "cell_type": "markdown",
      "metadata": {
        "id": "qKjLpfFQ9r-w"
      },
      "source": [
        "Here we should encode them to integers. Decision Trees work with integers. "
      ]
    },
    {
      "cell_type": "code",
      "execution_count": null,
      "metadata": {
        "colab": {
          "base_uri": "https://localhost:8080/"
        },
        "id": "d69d9cZvzED1",
        "outputId": "a29ac11c-f8bc-4b21-e235-f403408199ac"
      },
      "outputs": [],
      "source": [
        "from sklearn.preprocessing import LabelEncoder\n",
        "le_Education = LabelEncoder()\n",
        "le_Age = LabelEncoder()\n",
        "le_Work_Experience = LabelEncoder()\n",
        "le_Salary = LabelEncoder()\n",
        "le_Field = LabelEncoder()\n",
        "le_Country = LabelEncoder()\n",
        "X['Education'] = le_Education.fit_transform(X['Education'])\n",
        "X['Age'] = le_Age.fit_transform(X['Age'])\n",
        "X['Work Experience'] = le_Work_Experience.fit_transform(X['Work Experience']) \n",
        "X['Field'] = le_Field.fit_transform(X['Field'])\n",
        "Y['Salary'] = le_Salary.fit_transform(Y['Salary']) "
      ]
    },
    {
      "cell_type": "code",
      "execution_count": null,
      "metadata": {
        "colab": {
          "base_uri": "https://localhost:8080/"
        },
        "id": "fZGaHnRsZaYv",
        "outputId": "858d67ca-e5c4-48a5-ab4f-bea065a29466"
      },
      "outputs": [],
      "source": [
        "le_Education_mapping = dict(zip(le_Education.classes_, le_Education.transform(le_Education.classes_)))\n",
        "print(le_Education_mapping)\n",
        "le_Age_mapping = dict(zip(le_Age.classes_, le_Age.transform(le_Age.classes_)))\n",
        "print(le_Age_mapping)\n",
        "le_Work_Experience_mapping = dict(zip(le_Work_Experience.classes_, le_Work_Experience.transform(le_Work_Experience.classes_)))\n",
        "print(le_Work_Experience_mapping)\n",
        "le_Field_mapping = dict(zip(le_Field.classes_, le_Field.transform(le_Field.classes_)))\n",
        "print(le_Field_mapping)\n",
        "le_Salary_mapping = dict(zip(le_Salary.classes_, le_Salary.transform(le_Salary.classes_)))\n",
        "print(le_Salary_mapping)"
      ]
    },
    {
      "cell_type": "code",
      "execution_count": null,
      "metadata": {
        "colab": {
          "base_uri": "https://localhost:8080/"
        },
        "id": "LJnWpSTCbr9B",
        "outputId": "27373190-1910-4490-8a9f-5d1a945ad34a"
      },
      "outputs": [],
      "source": [
        "!pip install GraphViz\n"
      ]
    },
    {
      "cell_type": "code",
      "execution_count": null,
      "metadata": {
        "colab": {
          "base_uri": "https://localhost:8080/"
        },
        "id": "LLgWrnl_b0EE",
        "outputId": "f55cbeb2-cd34-4102-89a4-c301172aafc1"
      },
      "outputs": [],
      "source": [
        "!pip install pydotplus"
      ]
    },
    {
      "cell_type": "code",
      "execution_count": null,
      "metadata": {
        "id": "TawKK3evai4O"
      },
      "outputs": [],
      "source": [
        "from sklearn import tree\n",
        "from sklearn.tree import DecisionTreeClassifier\n",
        "import pydotplus\n",
        "import matplotlib.pyplot as plt\n",
        "import matplotlib.image as pltimg"
      ]
    },
    {
      "cell_type": "markdown",
      "metadata": {
        "id": "z9m205Zo-BWD"
      },
      "source": [
        "For creating decision tree we devide the data into train and test datas. Then by using entropy and gini we fit the train data to classifier. "
      ]
    },
    {
      "cell_type": "code",
      "execution_count": null,
      "metadata": {
        "id": "grOWa_GxZekS"
      },
      "outputs": [],
      "source": [
        "X_train, X_test, Y_train, Y_test = train_test_split(X, Y, test_size=0.20, random_state=42)\n"
      ]
    },
    {
      "cell_type": "code",
      "execution_count": null,
      "metadata": {
        "colab": {
          "base_uri": "https://localhost:8080/",
          "height": 135
        },
        "id": "1OupMWWMbquj",
        "outputId": "ba3d101b-7b35-4e8b-e7c0-f34dd789d380"
      },
      "outputs": [],
      "source": [
        "decision_tree = DecisionTreeClassifier(criterion = \"entropy\")\n",
        "decision_tree.fit(X_train,Y_train)\n",
        "d_tree = tree.export_graphviz(decision_tree, out_file = None)\n",
        "graph = pydotplus.graph_from_dot_data(d_tree)\n",
        "graph.write_png('graph.png')\n",
        "img = pltimg.imread('graph.png')\n",
        "imgplot = plt.imshow(img)\n",
        "plt.show()"
      ]
    },
    {
      "cell_type": "code",
      "execution_count": null,
      "metadata": {
        "colab": {
          "base_uri": "https://localhost:8080/"
        },
        "id": "hH646b5IcjEo",
        "outputId": "d216a324-d4e9-4a47-f940-28ccf866e471"
      },
      "outputs": [],
      "source": [
        "y = decision_tree.predict(X_test)\n",
        "print(Y_test)\n",
        "print(y)\n"
      ]
    },
    {
      "cell_type": "code",
      "execution_count": null,
      "metadata": {
        "id": "cEdONQh2dcQ8"
      },
      "outputs": [],
      "source": []
    },
    {
      "cell_type": "code",
      "execution_count": null,
      "metadata": {
        "colab": {
          "base_uri": "https://localhost:8080/",
          "height": 170
        },
        "id": "I2BqGD1YdHjY",
        "outputId": "23da20d9-5056-474c-d0e3-dae123993e43"
      },
      "outputs": [],
      "source": [
        "decision_tree = DecisionTreeClassifier(criterion = \"gini\")\n",
        "decision_tree.fit(X_train,Y_train)\n",
        "d_tree = tree.export_graphviz(decision_tree, out_file = None)\n",
        "graph = pydotplus.graph_from_dot_data(d_tree)\n",
        "graph.write_png('graph1.png')\n",
        "img = pltimg.imread('graph1.png')\n",
        "imgplot = plt.imshow(img)\n",
        "plt.show()"
      ]
    },
    {
      "cell_type": "code",
      "execution_count": null,
      "metadata": {
        "colab": {
          "base_uri": "https://localhost:8080/"
        },
        "id": "xJDIyh8xsEO4",
        "outputId": "65e937ee-4587-41bd-ddae-3a9118b256fd"
      },
      "outputs": [],
      "source": [
        "y = decision_tree.predict(X_test)\n",
        "print(Y_test)\n",
        "print(y)\n"
      ]
    },
    {
      "cell_type": "code",
      "execution_count": null,
      "metadata": {
        "colab": {
          "base_uri": "https://localhost:8080/"
        },
        "id": "8UfMf1z_eBtJ",
        "outputId": "0ebdc516-6b23-43a0-ceb2-655da5a1ad49"
      },
      "outputs": [],
      "source": [
        "features = ['Education', 'Age', 'Work Experience', 'Salary']\n",
        "target = ['Field']\n",
        "X = dataSet[features]\n",
        "Y = dataSet[target]\n",
        "print(X)\n",
        "print(Y)"
      ]
    },
    {
      "cell_type": "code",
      "execution_count": null,
      "metadata": {
        "colab": {
          "base_uri": "https://localhost:8080/"
        },
        "id": "hpWq4yPaiplJ",
        "outputId": "8ae7ff7d-7520-4aa1-dbbe-1fe862306e0d"
      },
      "outputs": [],
      "source": [
        "from sklearn.preprocessing import LabelEncoder\n",
        "le_Education = LabelEncoder()\n",
        "le_Age = LabelEncoder()\n",
        "le_Work_Experience = LabelEncoder()\n",
        "le_Salary = LabelEncoder()\n",
        "le_Field = LabelEncoder()\n",
        "le_Country = LabelEncoder()\n",
        "X['Education'] = le_Education.fit_transform(X['Education'])\n",
        "X['Age'] = le_Age.fit_transform(X['Age'])\n",
        "X['Work Experience'] = le_Work_Experience.fit_transform(X['Work Experience']) \n",
        "X['Salary'] = le_Salary.fit_transform(X['Salary'])\n",
        "Y['Field'] = le_Field.fit_transform(Y['Field']) "
      ]
    },
    {
      "cell_type": "code",
      "execution_count": null,
      "metadata": {
        "colab": {
          "base_uri": "https://localhost:8080/"
        },
        "id": "8oMIF-sJi0st",
        "outputId": "03b817ab-9157-4850-cf78-29bd51db7f27"
      },
      "outputs": [],
      "source": [
        "le_Education_mapping = dict(zip(le_Education.classes_, le_Education.transform(le_Education.classes_)))\n",
        "print(le_Education_mapping)\n",
        "le_Age_mapping = dict(zip(le_Age.classes_, le_Age.transform(le_Age.classes_)))\n",
        "print(le_Age_mapping)\n",
        "le_Work_Experience_mapping = dict(zip(le_Work_Experience.classes_, le_Work_Experience.transform(le_Work_Experience.classes_)))\n",
        "print(le_Work_Experience_mapping)\n",
        "le_Salary_mapping = dict(zip(le_Salary.classes_, le_Salary.transform(le_Salary.classes_)))\n",
        "print(le_Salary_mapping)\n",
        "le_Field_mapping = dict(zip(le_Field.classes_, le_Field.transform(le_Field.classes_)))\n",
        "print(le_Field_mapping)"
      ]
    },
    {
      "cell_type": "code",
      "execution_count": null,
      "metadata": {
        "id": "TCk5vw7ysgjT"
      },
      "outputs": [],
      "source": [
        "X_train, X_test, Y_train, Y_test = train_test_split(X, Y, test_size=0.20, random_state=42)"
      ]
    },
    {
      "cell_type": "code",
      "execution_count": null,
      "metadata": {
        "colab": {
          "base_uri": "https://localhost:8080/",
          "height": 262
        },
        "id": "tW4_AR5PlZEy",
        "outputId": "888edb41-e6b4-4fcb-d207-694a58299012"
      },
      "outputs": [],
      "source": [
        "decision_tree = DecisionTreeClassifier(criterion = \"entropy\")\n",
        "decision_tree.fit(X_train,Y_train)\n",
        "d_tree = tree.export_graphviz(decision_tree, out_file = None)\n",
        "graph = pydotplus.graph_from_dot_data(d_tree)\n",
        "graph.write_png('graph2.png')\n",
        "img = pltimg.imread('graph2.png')\n",
        "imgplot = plt.imshow(img)\n",
        "plt.show()"
      ]
    },
    {
      "cell_type": "code",
      "execution_count": null,
      "metadata": {
        "colab": {
          "base_uri": "https://localhost:8080/"
        },
        "id": "uOSbmA3bs9tA",
        "outputId": "0d51a634-9011-45ad-a9e4-c5495590f65b"
      },
      "outputs": [],
      "source": [
        "y = decision_tree.predict(X_test)\n",
        "print(Y_test)\n",
        "print(y)"
      ]
    },
    {
      "cell_type": "code",
      "execution_count": null,
      "metadata": {
        "colab": {
          "base_uri": "https://localhost:8080/",
          "height": 182
        },
        "id": "-sl_KNxblgKz",
        "outputId": "fb2e38ef-ec5f-4dc5-fea2-efeb2efa1383"
      },
      "outputs": [],
      "source": [
        "decision_tree = DecisionTreeClassifier(criterion = \"gini\")\n",
        "decision_tree.fit(X_train,Y_train)\n",
        "d_tree = tree.export_graphviz(decision_tree, out_file = None)\n",
        "graph = pydotplus.graph_from_dot_data(d_tree)\n",
        "graph.write_png('graph3.png')\n",
        "img = pltimg.imread('graph3.png')\n",
        "imgplot = plt.imshow(img)\n",
        "plt.show()"
      ]
    },
    {
      "cell_type": "code",
      "execution_count": null,
      "metadata": {
        "colab": {
          "base_uri": "https://localhost:8080/"
        },
        "id": "wz18gKsrloPO",
        "outputId": "85286d96-7c54-40a1-ecf0-a9f875a2baba"
      },
      "outputs": [],
      "source": [
        "y = decision_tree.predict(X_test)\n",
        "print(Y_test)\n",
        "print(y)"
      ]
    },
    {
      "cell_type": "code",
      "execution_count": null,
      "metadata": {
        "id": "9e5NuGNs_Yf4"
      },
      "outputs": [],
      "source": [
        "#KNN\n",
        "from sklearn.neighbors import KNeighborsClassifier"
      ]
    },
    {
      "cell_type": "markdown",
      "metadata": {
        "id": "KLKwC76cA8n-"
      },
      "source": [
        "KNN "
      ]
    },
    {
      "cell_type": "code",
      "execution_count": null,
      "metadata": {
        "colab": {
          "base_uri": "https://localhost:8080/"
        },
        "id": "uCu2XYFhBHfL",
        "outputId": "1f364988-369c-4cb8-b75f-08d494c91245"
      },
      "outputs": [],
      "source": [
        "Knn_Classifier = KNeighborsClassifier(n_neighbors=3)\n",
        "Knn_Classifier.fit(X_train, Y_train)\n",
        "Knn_Classifier.score(X_test, Y_test)"
      ]
    },
    {
      "cell_type": "code",
      "execution_count": null,
      "metadata": {},
      "outputs": [],
      "source": [
        "y_predict = clf.predict(X_test)\n",
        "ConfusionMatrixDisplay.from_predictions(y_test, y_predict)"
      ]
    },
    {
      "cell_type": "code",
      "execution_count": null,
      "metadata": {},
      "outputs": [],
      "source": [
        "path = clf.cost_complexity_pruning_path(X_train, y_train)\n",
        "ccp_alphas = path.ccp_alphas\n",
        "ccp_alphas = ccp_alphas[:-1]\n",
        "\n",
        "alpha_loop_values = []\n",
        "for ccp_alpha in ccp_alphas:\n",
        "    clf = DecisionTreeClassifier(criterion='gini', random_state=0, ccp_alpha=ccp_alpha)\n",
        "    scores = cross_val_score(clf, X_train, y_train)\n",
        "    alpha_loop_values.append([ccp_alpha, np.mean(scores), np.std(scores)])"
      ]
    },
    {
      "cell_type": "code",
      "execution_count": null,
      "metadata": {},
      "outputs": [],
      "source": [
        "alpha_results = pd.DataFrame(alpha_loop_values, columns=['alpha', 'mean_acc', 'std'])\n",
        "alpha_results.plot(x='alpha',\n",
        "                   y='mean_acc',\n",
        "                   yerr='std',\n",
        "                   marker='o',\n",
        "                   linestyle='--')"
      ]
    },
    {
      "cell_type": "code",
      "execution_count": null,
      "metadata": {},
      "outputs": [],
      "source": [
        "alpha_results"
      ]
    },
    {
      "cell_type": "code",
      "execution_count": null,
      "metadata": {},
      "outputs": [],
      "source": [
        "ideal_ccp_alpha = 0.012712"
      ]
    },
    {
      "cell_type": "code",
      "execution_count": null,
      "metadata": {},
      "outputs": [],
      "source": [
        "clf_pruned = DecisionTreeClassifier(criterion='gini', random_state=42, ccp_alpha=ideal_ccp_alpha)\n",
        "clf_pruned = clf_pruned.fit(X_train, y_train)\n",
        "\n",
        "y_predict = clf_pruned.predict(X_test)\n",
        "ConfusionMatrixDisplay.from_predictions(y_test, y_predict)"
      ]
    },
    {
      "cell_type": "code",
      "execution_count": null,
      "metadata": {},
      "outputs": [],
      "source": [
        "dtree = tree.export_graphviz(clf_pruned, out_file=None, feature_names=features)\n",
        "graph = pydotplus.graph_from_dot_data(dtree)\n",
        "if graph.write_png('SalaryPrunedTree.png'):\n",
        "    print('Tree is saved as png file.')"
      ]
    },
    {
      "cell_type": "code",
      "execution_count": null,
      "metadata": {},
      "outputs": [],
      "source": [
        "new_values = [[0, 0, 6, 1], [1, 4, 1, 3]]\n",
        "new = pd.DataFrame(new_values, columns=['Education', 'Age', 'Work Experience', 'Field'])\n",
        "new_predict = clf_pruned.predict(new)\n",
        "new_predict"
      ]
    },
    {
      "cell_type": "code",
      "execution_count": null,
      "metadata": {},
      "outputs": [],
      "source": [
        "features = ['Gender', 'Age', 'Salary']\n",
        "target = ['Field']\n",
        "\n",
        "X = dataset[features]\n",
        "y = dataset[target]"
      ]
    },
    {
      "cell_type": "code",
      "execution_count": null,
      "metadata": {},
      "outputs": [],
      "source": [
        "le_gender = LabelEncoder()\n",
        "le_age = LabelEncoder()\n",
        "le_salary = LabelEncoder()\n",
        "le_field = LabelEncoder()\n",
        "\n",
        "pd.options.mode.chained_assignment = None\n",
        "X['Gender'] = le_gender.fit_transform(X['Gender'])\n",
        "X['Age'] = le_age.fit_transform(X['Age'])\n",
        "X['Salary'] = le_salary.fit_transform(X['Salary'])\n",
        "y['Field'] = le_field.fit_transform(y['Field'])"
      ]
    },
    {
      "cell_type": "code",
      "execution_count": null,
      "metadata": {},
      "outputs": [],
      "source": [
        "print(dict(zip(le_gender.classes_, le_gender.transform(le_gender.classes_))))\n",
        "print(dict(zip(le_age.classes_, le_age.transform(le_age.classes_))))\n",
        "print(dict(zip(le_salary.classes_, le_salary.transform(le_salary.classes_))))\n",
        "print(dict(zip(le_field.classes_, le_field.transform(le_field.classes_))))"
      ]
    },
    {
      "cell_type": "code",
      "execution_count": null,
      "metadata": {},
      "outputs": [],
      "source": [
        "X_train, X_test, y_train, y_test = train_test_split(X, y, random_state=42)"
      ]
    },
    {
      "cell_type": "code",
      "execution_count": null,
      "metadata": {},
      "outputs": [],
      "source": [
        "clf = DecisionTreeClassifier(criterion='gini', random_state=42)\n",
        "clf = clf.fit(X_train, y_train)\n",
        "\n",
        "dtree = tree.export_graphviz(clf, out_file=None, feature_names=features)\n",
        "graph = pydotplus.graph_from_dot_data(dtree)\n",
        "if graph.write_png('FieldTree.png'):\n",
        "    print('Tree is saved as png file.')"
      ]
    },
    {
      "cell_type": "code",
      "execution_count": null,
      "metadata": {},
      "outputs": [],
      "source": [
        "y_predict = clf.predict(X_test)\n",
        "ConfusionMatrixDisplay.from_predictions(y_test, y_predict, display_labels=le_field.classes_)"
      ]
    },
    {
      "cell_type": "code",
      "execution_count": null,
      "metadata": {},
      "outputs": [],
      "source": [
        "path = clf.cost_complexity_pruning_path(X_train, y_train)\n",
        "ccp_alphas = path.ccp_alphas\n",
        "ccp_alphas = ccp_alphas[:-1]\n",
        "\n",
        "alpha_loop_values = []\n",
        "for ccp_alpha in ccp_alphas:\n",
        "    clf = DecisionTreeClassifier(criterion='gini', random_state=0, ccp_alpha=ccp_alpha)\n",
        "    scores = cross_val_score(clf, X_train, y_train)\n",
        "    alpha_loop_values.append([ccp_alpha, np.mean(scores), np.std(scores)])"
      ]
    },
    {
      "cell_type": "code",
      "execution_count": null,
      "metadata": {},
      "outputs": [],
      "source": [
        "alpha_results = pd.DataFrame(alpha_loop_values, columns=['alpha', 'mean_acc', 'std'])\n",
        "alpha_results.plot(x='alpha',\n",
        "                   y='mean_acc',\n",
        "                   yerr='std',\n",
        "                   marker='o',\n",
        "                   linestyle='--')"
      ]
    },
    {
      "cell_type": "code",
      "execution_count": null,
      "metadata": {},
      "outputs": [],
      "source": [
        "ideal_ccp_alpha = 0.024910"
      ]
    },
    {
      "cell_type": "code",
      "execution_count": null,
      "metadata": {},
      "outputs": [],
      "source": [
        "clf_pruned = DecisionTreeClassifier(criterion='gini', random_state=42, ccp_alpha=ideal_ccp_alpha)\n",
        "clf_pruned = clf_pruned.fit(X_train, y_train)\n",
        "\n",
        "y_predict = clf_pruned.predict(X_test)\n",
        "ConfusionMatrixDisplay.from_predictions(y_test, y_predict)"
      ]
    },
    {
      "cell_type": "code",
      "execution_count": null,
      "metadata": {},
      "outputs": [],
      "source": [
        "dtree = tree.export_graphviz(clf_pruned, out_file=None, feature_names=features)\n",
        "graph = pydotplus.graph_from_dot_data(dtree)\n",
        "if graph.write_png('FieldPrunedTree.png'):\n",
        "    print('Tree is saved as png file.')"
      ]
    },
    {
      "cell_type": "code",
      "execution_count": null,
      "metadata": {},
      "outputs": [],
      "source": [
        "new_values = [[1, 6, 4], [0, 7, 1]]\n",
        "new = pd.DataFrame(new_values, columns=['Gender', 'Age', 'Salary'])\n",
        "new_predict = clf_pruned.predict(new)\n",
        "new_predict"
      ]
    }
  ],
  "metadata": {
    "colab": {
      "name": "HW1MLipynb",
      "provenance": []
    },
    "kernelspec": {
      "display_name": "Python 3",
      "name": "python3"
    },
    "language_info": {
      "name": "python"
    }
  },
  "nbformat": 4,
  "nbformat_minor": 0
}
